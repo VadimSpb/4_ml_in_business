{
 "cells": [
  {
   "cell_type": "markdown",
   "metadata": {
    "collapsed": true,
    "pycharm": {
     "name": "#%% md\n"
    }
   },
   "source": [
    "# Урок 5. Задача оттока: варианты постановки, возможные способы решения"
   ]
  },
  {
   "cell_type": "markdown",
   "source": [
    "**Задание**\n",
    "\n",
    "\n",
    "1. Для нашего пайплайна (Case1) поэкспериментировать с разными моделями:\n",
    "- бустинг\n",
    "- логистическая регрессия\n",
    "2. Отобрать лучшую модель по метрикам (какая по вашему мнению здесь наиболее подходящая ML-метрика)\n",
    "3. Для отобранной модели (на отложенной выборке) сделать оценку экономической эффективности при тех же вводных, как в вопросе 2:\n",
    "- 1 доллар на удержание\n",
    "- 2 доллара - с каждого правильно классифицированного (True Positive)\n",
    "\n",
    "4. *Провести подбор гиперпараметров лучшей модели по итогам 2-3\n",
    "5. *Еще раз провести оценку экономической эффективности"
   ],
   "metadata": {
    "collapsed": false,
    "pycharm": {
     "name": "#%% md\n"
    }
   }
  },
  {
   "cell_type": "code",
   "execution_count": 1,
   "outputs": [],
   "source": [
    "# !./bash/hw5.sh"
   ],
   "metadata": {
    "collapsed": false,
    "pycharm": {
     "name": "#%%\n"
    }
   }
  },
  {
   "cell_type": "code",
   "execution_count": 2,
   "outputs": [],
   "source": [
    "import numpy as np\n",
    "import pandas as pd\n",
    "\n",
    "from sklearn.preprocessing import StandardScaler\n",
    "from sklearn.linear_model import LogisticRegression\n",
    "from sklearn.model_selection import train_test_split, GridSearchCV\n",
    "from sklearn.pipeline import Pipeline, FeatureUnion\n",
    "from sklearn.metrics import roc_auc_score, precision_recall_curve, confusion_matrix\n",
    "from sklearn.ensemble import GradientBoostingClassifier\n",
    "\n",
    "from lib.transformers import *"
   ],
   "metadata": {
    "collapsed": false,
    "pycharm": {
     "name": "#%%\n"
    }
   }
  },
  {
   "cell_type": "code",
   "execution_count": 3,
   "outputs": [],
   "source": [
    "%matplotlib inline"
   ],
   "metadata": {
    "collapsed": false,
    "pycharm": {
     "name": "#%%\n"
    }
   }
  },
  {
   "cell_type": "code",
   "execution_count": 4,
   "outputs": [
    {
     "data": {
      "text/plain": "      RowNumber  CustomerId  Surname  CreditScore Geography  Gender  Age  \\\n8507       8508    15771749   Duncan          653   Germany  Female   38   \n3578       3579    15711618    Chang          704   Germany  Female   39   \n9818       9819    15619699      Yeh          558    France    Male   31   \n8080       8081    15668775  Pendred          757    France    Male   47   \n7023       7024    15605791       Li          524   Germany    Male   29   \n\n      Tenure    Balance  NumOfProducts  HasCrCard  IsActiveMember  \\\n8507       5  114268.22              2          1               1   \n3578       1  124640.51              1          1               0   \n9818       7       0.00              1          1               0   \n8080       3  130747.10              1          1               0   \n7023       9  144287.60              2          1               0   \n\n      EstimatedSalary  Exited  \n8507         89524.83       0  \n3578        116511.12       1  \n9818        198269.08       0  \n8080        143829.54       0  \n7023         32063.30       0  ",
      "text/html": "<div>\n<style scoped>\n    .dataframe tbody tr th:only-of-type {\n        vertical-align: middle;\n    }\n\n    .dataframe tbody tr th {\n        vertical-align: top;\n    }\n\n    .dataframe thead th {\n        text-align: right;\n    }\n</style>\n<table border=\"1\" class=\"dataframe\">\n  <thead>\n    <tr style=\"text-align: right;\">\n      <th></th>\n      <th>RowNumber</th>\n      <th>CustomerId</th>\n      <th>Surname</th>\n      <th>CreditScore</th>\n      <th>Geography</th>\n      <th>Gender</th>\n      <th>Age</th>\n      <th>Tenure</th>\n      <th>Balance</th>\n      <th>NumOfProducts</th>\n      <th>HasCrCard</th>\n      <th>IsActiveMember</th>\n      <th>EstimatedSalary</th>\n      <th>Exited</th>\n    </tr>\n  </thead>\n  <tbody>\n    <tr>\n      <th>8507</th>\n      <td>8508</td>\n      <td>15771749</td>\n      <td>Duncan</td>\n      <td>653</td>\n      <td>Germany</td>\n      <td>Female</td>\n      <td>38</td>\n      <td>5</td>\n      <td>114268.22</td>\n      <td>2</td>\n      <td>1</td>\n      <td>1</td>\n      <td>89524.83</td>\n      <td>0</td>\n    </tr>\n    <tr>\n      <th>3578</th>\n      <td>3579</td>\n      <td>15711618</td>\n      <td>Chang</td>\n      <td>704</td>\n      <td>Germany</td>\n      <td>Female</td>\n      <td>39</td>\n      <td>1</td>\n      <td>124640.51</td>\n      <td>1</td>\n      <td>1</td>\n      <td>0</td>\n      <td>116511.12</td>\n      <td>1</td>\n    </tr>\n    <tr>\n      <th>9818</th>\n      <td>9819</td>\n      <td>15619699</td>\n      <td>Yeh</td>\n      <td>558</td>\n      <td>France</td>\n      <td>Male</td>\n      <td>31</td>\n      <td>7</td>\n      <td>0.00</td>\n      <td>1</td>\n      <td>1</td>\n      <td>0</td>\n      <td>198269.08</td>\n      <td>0</td>\n    </tr>\n    <tr>\n      <th>8080</th>\n      <td>8081</td>\n      <td>15668775</td>\n      <td>Pendred</td>\n      <td>757</td>\n      <td>France</td>\n      <td>Male</td>\n      <td>47</td>\n      <td>3</td>\n      <td>130747.10</td>\n      <td>1</td>\n      <td>1</td>\n      <td>0</td>\n      <td>143829.54</td>\n      <td>0</td>\n    </tr>\n    <tr>\n      <th>7023</th>\n      <td>7024</td>\n      <td>15605791</td>\n      <td>Li</td>\n      <td>524</td>\n      <td>Germany</td>\n      <td>Male</td>\n      <td>29</td>\n      <td>9</td>\n      <td>144287.60</td>\n      <td>2</td>\n      <td>1</td>\n      <td>0</td>\n      <td>32063.30</td>\n      <td>0</td>\n    </tr>\n  </tbody>\n</table>\n</div>"
     },
     "execution_count": 4,
     "metadata": {},
     "output_type": "execute_result"
    }
   ],
   "source": [
    "df = pd.read_csv(\"./data/churn_data.csv\")\n",
    "df.sample(5)"
   ],
   "metadata": {
    "collapsed": false,
    "pycharm": {
     "name": "#%%\n"
    }
   }
  },
  {
   "cell_type": "code",
   "execution_count": 5,
   "outputs": [
    {
     "data": {
      "text/plain": "0    7963\n1    2037\nName: Exited, dtype: int64"
     },
     "execution_count": 5,
     "metadata": {},
     "output_type": "execute_result"
    }
   ],
   "source": [
    "df['Exited'].value_counts()"
   ],
   "metadata": {
    "collapsed": false,
    "pycharm": {
     "name": "#%%\n"
    }
   }
  },
  {
   "cell_type": "code",
   "execution_count": 6,
   "outputs": [],
   "source": [
    "X_train, X_test, y_train, y_test = train_test_split(df, df['Exited'], random_state=0)"
   ],
   "metadata": {
    "collapsed": false,
    "pycharm": {
     "name": "#%%\n"
    }
   }
  },
  {
   "cell_type": "code",
   "execution_count": 7,
   "outputs": [],
   "source": [
    "params = {\n",
    "    \"continuos_cols\" : ['CreditScore', 'Age', 'Balance', 'NumOfProducts', 'EstimatedSalary'],\n",
    "    \"cat_cols\" : ['Geography', 'Gender', 'Tenure', 'HasCrCard', 'IsActiveMember']\n",
    "}"
   ],
   "metadata": {
    "collapsed": false,
    "pycharm": {
     "name": "#%%\n"
    }
   }
  },
  {
   "cell_type": "code",
   "execution_count": 8,
   "outputs": [],
   "source": [
    "categorical_columns = ['Geography', 'Gender', 'Tenure', 'HasCrCard', 'IsActiveMember']\n",
    "continuous_columns = ['CreditScore', 'Age', 'Balance', 'NumOfProducts', 'EstimatedSalary']"
   ],
   "metadata": {
    "collapsed": false,
    "pycharm": {
     "name": "#%%\n"
    }
   }
  },
  {
   "cell_type": "code",
   "execution_count": 9,
   "outputs": [],
   "source": [
    "final_transformers = list()\n",
    "\n",
    "for cat_col in categorical_columns:\n",
    "    cat_transformer = Pipeline([\n",
    "        ('selector', FeatureSelector(column=cat_col)),\n",
    "        ('ohe', OHEEncoder(key=cat_col))\n",
    "    ])\n",
    "\n",
    "    final_transformers.append((cat_col, cat_transformer))\n",
    "\n",
    "for cont_col in continuous_columns:\n",
    "    cont_transformer = Pipeline([\n",
    "        ('selector', NumberSelector(key=cont_col)),\n",
    "        ('scaler', StandardScaler())\n",
    "    ])\n",
    "\n",
    "    final_transformers.append((cont_col, cont_transformer))\n",
    "\n",
    "\n",
    "feats = FeatureUnion(final_transformers)"
   ],
   "metadata": {
    "collapsed": false,
    "pycharm": {
     "name": "#%%\n"
    }
   }
  },
  {
   "cell_type": "code",
   "execution_count": 10,
   "outputs": [
    {
     "name": "stdout",
     "output_type": "stream",
     "text": [
      "Best Threshold=0.28952195521698365, F-Score=0.510, Precision=0.462, Recall=0.568\n"
     ]
    }
   ],
   "source": [
    "model_lr = Pipeline([\n",
    "    ('features', feats),\n",
    "    ('classifier', LogisticRegression(random_state=42)),\n",
    "])\n",
    "\n",
    "\n",
    "# обучим пайплайн на всем тренировочном датасете\n",
    "model_lr.fit(X_train, y_train)\n",
    "\n",
    "preds = model_lr.predict_proba(X_test)[:, 1]\n",
    "\n",
    "precision, recall, thresholds = precision_recall_curve(y_test, preds)\n",
    "fscore = (2 * precision * recall) / (precision + recall)\n",
    "# locate the index of the largest f score\n",
    "ix = np.argmax(fscore)\n",
    "print(f'Best Threshold={thresholds[ix]}, F-Score={fscore[ix]:.3f}, Precision={precision[ix]:.3f}, Recall={recall[ix]:.3f}')"
   ],
   "metadata": {
    "collapsed": false,
    "pycharm": {
     "name": "#%%\n"
    }
   }
  },
  {
   "cell_type": "code",
   "execution_count": 11,
   "outputs": [
    {
     "data": {
      "text/plain": "Empty DataFrame\nColumns: [model, thresh, F-Score, Precision, Recall, ROC AUC]\nIndex: []",
      "text/html": "<div>\n<style scoped>\n    .dataframe tbody tr th:only-of-type {\n        vertical-align: middle;\n    }\n\n    .dataframe tbody tr th {\n        vertical-align: top;\n    }\n\n    .dataframe thead th {\n        text-align: right;\n    }\n</style>\n<table border=\"1\" class=\"dataframe\">\n  <thead>\n    <tr style=\"text-align: right;\">\n      <th></th>\n      <th>model</th>\n      <th>thresh</th>\n      <th>F-Score</th>\n      <th>Precision</th>\n      <th>Recall</th>\n      <th>ROC AUC</th>\n    </tr>\n  </thead>\n  <tbody>\n  </tbody>\n</table>\n</div>"
     },
     "execution_count": 11,
     "metadata": {},
     "output_type": "execute_result"
    }
   ],
   "source": [
    "metrics_df = pd.DataFrame(columns=['model', 'thresh', 'F-Score', 'Precision', 'Recall', 'ROC AUC'])\n",
    "metrics_df"
   ],
   "metadata": {
    "collapsed": false,
    "pycharm": {
     "name": "#%%\n"
    }
   }
  },
  {
   "cell_type": "code",
   "execution_count": 12,
   "outputs": [
    {
     "data": {
      "text/plain": "0.7720774921330664"
     },
     "execution_count": 12,
     "metadata": {},
     "output_type": "execute_result"
    }
   ],
   "source": [
    "roc_auc = roc_auc_score(y_test, preds)\n",
    "roc_auc"
   ],
   "metadata": {
    "collapsed": false,
    "pycharm": {
     "name": "#%%\n"
    }
   }
  },
  {
   "cell_type": "code",
   "execution_count": 13,
   "outputs": [
    {
     "name": "stderr",
     "output_type": "stream",
     "text": [
      "/var/folders/4m/q56tywrn4y17g19rm7bs5xxh0000gp/T/ipykernel_15498/2418686002.py:1: FutureWarning: The frame.append method is deprecated and will be removed from pandas in a future version. Use pandas.concat instead.\n",
      "  metrics_df = metrics_df.append({\n"
     ]
    },
    {
     "data": {
      "text/plain": "                model    thresh F-Score Precision   Recall   ROC AUC\n0  LogisticRegression  0.289522  0.5097    0.4624  0.56778  0.772077",
      "text/html": "<div>\n<style scoped>\n    .dataframe tbody tr th:only-of-type {\n        vertical-align: middle;\n    }\n\n    .dataframe tbody tr th {\n        vertical-align: top;\n    }\n\n    .dataframe thead th {\n        text-align: right;\n    }\n</style>\n<table border=\"1\" class=\"dataframe\">\n  <thead>\n    <tr style=\"text-align: right;\">\n      <th></th>\n      <th>model</th>\n      <th>thresh</th>\n      <th>F-Score</th>\n      <th>Precision</th>\n      <th>Recall</th>\n      <th>ROC AUC</th>\n    </tr>\n  </thead>\n  <tbody>\n    <tr>\n      <th>0</th>\n      <td>LogisticRegression</td>\n      <td>0.289522</td>\n      <td>0.5097</td>\n      <td>0.4624</td>\n      <td>0.56778</td>\n      <td>0.772077</td>\n    </tr>\n  </tbody>\n</table>\n</div>"
     },
     "execution_count": 13,
     "metadata": {},
     "output_type": "execute_result"
    }
   ],
   "source": [
    "metrics_df = metrics_df.append({\n",
    "    'model': type(model_lr['classifier']).__name__,\n",
    "    'thresh': thresholds[ix],\n",
    "    'F-Score': fscore[ix],\n",
    "    'Precision': precision[ix],\n",
    "    'Recall': recall[ix],\n",
    "    'ROC AUC': roc_auc\n",
    "}, ignore_index=True)\n",
    "\n",
    "metrics_df"
   ],
   "metadata": {
    "collapsed": false,
    "pycharm": {
     "name": "#%%\n"
    }
   }
  },
  {
   "cell_type": "code",
   "execution_count": 14,
   "outputs": [
    {
     "name": "stdout",
     "output_type": "stream",
     "text": [
      "Best Threshold=0.4085078904556646, F-Score=0.646, Precision=0.704, Recall=0.597\n"
     ]
    }
   ],
   "source": [
    "model_gb = Pipeline([\n",
    "    ('features', feats),\n",
    "    ('classifier', GradientBoostingClassifier(random_state=42)),\n",
    "])\n",
    "\n",
    "\n",
    "# обучим пайплайн на всем тренировочном датасете\n",
    "model_gb.fit(X_train, y_train)\n",
    "\n",
    "preds = model_gb.predict_proba(X_test)[:, 1]\n",
    "\n",
    "precision, recall, thresholds = precision_recall_curve(y_test, preds)\n",
    "fscore = (2 * precision * recall) / (precision + recall)\n",
    "# locate the index of the largest f score\n",
    "ix = np.argmax(fscore)\n",
    "print(f'Best Threshold={thresholds[ix]}, F-Score={fscore[ix]:.3f}, Precision={precision[ix]:.3f}, Recall={recall[ix]:.3f}')"
   ],
   "metadata": {
    "collapsed": false,
    "pycharm": {
     "name": "#%%\n"
    }
   }
  },
  {
   "cell_type": "code",
   "execution_count": 15,
   "outputs": [
    {
     "data": {
      "text/plain": "0.8757458662211781"
     },
     "execution_count": 15,
     "metadata": {},
     "output_type": "execute_result"
    }
   ],
   "source": [
    "roc_auc = roc_auc_score(y_test, preds)\n",
    "roc_auc"
   ],
   "metadata": {
    "collapsed": false,
    "pycharm": {
     "name": "#%%\n"
    }
   }
  },
  {
   "cell_type": "code",
   "execution_count": 16,
   "outputs": [
    {
     "name": "stderr",
     "output_type": "stream",
     "text": [
      "/var/folders/4m/q56tywrn4y17g19rm7bs5xxh0000gp/T/ipykernel_15498/2856801916.py:1: FutureWarning: The frame.append method is deprecated and will be removed from pandas in a future version. Use pandas.concat instead.\n",
      "  metrics_df = metrics_df.append({\n"
     ]
    }
   ],
   "source": [
    "metrics_df = metrics_df.append({\n",
    "    'model': type(model_gb['classifier']).__name__,\n",
    "    'thresh': thresholds[ix],\n",
    "    'F-Score': fscore[ix],\n",
    "    'Precision': precision[ix],\n",
    "    'Recall': recall[ix],\n",
    "    'ROC AUC': roc_auc\n",
    "}, ignore_index=True)"
   ],
   "metadata": {
    "collapsed": false,
    "pycharm": {
     "name": "#%%\n"
    }
   }
  },
  {
   "cell_type": "code",
   "execution_count": 17,
   "outputs": [
    {
     "data": {
      "text/plain": "                        model    thresh   F-Score Precision   Recall   ROC AUC\n0          LogisticRegression  0.289522    0.5097    0.4624  0.56778  0.772077\n1  GradientBoostingClassifier  0.408508  0.646121  0.703704  0.59725  0.875746",
      "text/html": "<div>\n<style scoped>\n    .dataframe tbody tr th:only-of-type {\n        vertical-align: middle;\n    }\n\n    .dataframe tbody tr th {\n        vertical-align: top;\n    }\n\n    .dataframe thead th {\n        text-align: right;\n    }\n</style>\n<table border=\"1\" class=\"dataframe\">\n  <thead>\n    <tr style=\"text-align: right;\">\n      <th></th>\n      <th>model</th>\n      <th>thresh</th>\n      <th>F-Score</th>\n      <th>Precision</th>\n      <th>Recall</th>\n      <th>ROC AUC</th>\n    </tr>\n  </thead>\n  <tbody>\n    <tr>\n      <th>0</th>\n      <td>LogisticRegression</td>\n      <td>0.289522</td>\n      <td>0.5097</td>\n      <td>0.4624</td>\n      <td>0.56778</td>\n      <td>0.772077</td>\n    </tr>\n    <tr>\n      <th>1</th>\n      <td>GradientBoostingClassifier</td>\n      <td>0.408508</td>\n      <td>0.646121</td>\n      <td>0.703704</td>\n      <td>0.59725</td>\n      <td>0.875746</td>\n    </tr>\n  </tbody>\n</table>\n</div>"
     },
     "execution_count": 17,
     "metadata": {},
     "output_type": "execute_result"
    }
   ],
   "source": [
    "metrics_df.sort_values('F-Score')"
   ],
   "metadata": {
    "collapsed": false,
    "pycharm": {
     "name": "#%%\n"
    }
   }
  },
  {
   "cell_type": "code",
   "execution_count": 18,
   "outputs": [],
   "source": [
    "preds = model_gb.predict_proba(X_test)[:, 1]\n",
    "\n",
    "precision, recall, thresholds = precision_recall_curve(y_test, preds)\n",
    "fscore = (2 * precision * recall) / (precision + recall)\n",
    "ix = np.argmax(fscore)\n",
    "\n",
    "cnf_matrix = confusion_matrix(y_test, preds > thresholds[ix])"
   ],
   "metadata": {
    "collapsed": false,
    "pycharm": {
     "name": "#%%\n"
    }
   }
  },
  {
   "cell_type": "code",
   "execution_count": 19,
   "outputs": [
    {
     "data": {
      "text/plain": "175"
     },
     "execution_count": 19,
     "metadata": {},
     "output_type": "execute_result"
    }
   ],
   "source": [
    "TN = cnf_matrix[0][0]\n",
    "FP = cnf_matrix[0][1]\n",
    "FN = cnf_matrix[1][0]\n",
    "TP = cnf_matrix[1][1]\n",
    "\n",
    "\n",
    "retain_sum = (FP + TP) * 1\n",
    "income = TP * 2\n",
    "\n",
    "income - retain_sum"
   ],
   "metadata": {
    "collapsed": false,
    "pycharm": {
     "name": "#%%\n"
    }
   }
  },
  {
   "cell_type": "code",
   "execution_count": 20,
   "outputs": [],
   "source": [
    "params = {\n",
    "    'classifier__max_features': [0.3, 0.5, 0.7],\n",
    "    'classifier__min_samples_leaf': [1, 15, 30, 50],\n",
    "    'classifier__n_estimators': [50, 100, 150, 300]\n",
    "}"
   ],
   "metadata": {
    "collapsed": false,
    "pycharm": {
     "name": "#%%\n"
    }
   }
  },
  {
   "cell_type": "code",
   "execution_count": 21,
   "outputs": [
    {
     "data": {
      "text/plain": "{'classifier__max_features': 0.3,\n 'classifier__min_samples_leaf': 1,\n 'classifier__n_estimators': 300}"
     },
     "execution_count": 21,
     "metadata": {},
     "output_type": "execute_result"
    }
   ],
   "source": [
    "grid = GridSearchCV(model_gb,\n",
    "                    param_grid=params,\n",
    "                    cv=5,\n",
    "                    scoring='recall',\n",
    "                    refit=False)\n",
    "\n",
    "search = grid.fit(X_train, y_train)\n",
    "search.best_params_"
   ],
   "metadata": {
    "collapsed": false,
    "pycharm": {
     "name": "#%%\n"
    }
   }
  },
  {
   "cell_type": "code",
   "execution_count": 22,
   "outputs": [
    {
     "name": "stdout",
     "output_type": "stream",
     "text": [
      "Best Threshold=0.4333908349794679, F-Score=0.645, Precision=0.700, Recall=0.597\n"
     ]
    }
   ],
   "source": [
    "model_gb_tuned = Pipeline([\n",
    "    ('features', feats),\n",
    "    ('classifier', GradientBoostingClassifier(n_estimators=300,\n",
    "                                              min_samples_leaf=1,\n",
    "                                              max_features=0.7,\n",
    "                                              random_state=42)),\n",
    "])\n",
    "\n",
    "\n",
    "# обучим пайплайн на всем тренировочном датасете\n",
    "model_gb_tuned.fit(X_train, y_train)\n",
    "\n",
    "preds = model_gb_tuned.predict_proba(X_test)[:, 1]\n",
    "\n",
    "precision, recall, thresholds = precision_recall_curve(y_test, preds)\n",
    "fscore = (2 * precision * recall) / (precision + recall)\n",
    "# locate the index of the largest f score\n",
    "ix = np.argmax(fscore)\n",
    "print(f'Best Threshold={thresholds[ix]}, F-Score={fscore[ix]:.3f}, Precision={precision[ix]:.3f}, Recall={recall[ix]:.3f}')"
   ],
   "metadata": {
    "collapsed": false,
    "pycharm": {
     "name": "#%%\n"
    }
   }
  },
  {
   "cell_type": "code",
   "execution_count": 23,
   "outputs": [],
   "source": [
    "preds = model_gb_tuned.predict_proba(X_test)[:, 1]\n",
    "\n",
    "precision, recall, thresholds = precision_recall_curve(y_test, preds)\n",
    "fscore = (2 * precision * recall) / (precision + recall)\n",
    "ix = np.argmax(fscore)\n",
    "\n",
    "cnf_matrix = confusion_matrix(y_test, preds > thresholds[ix])"
   ],
   "metadata": {
    "collapsed": false,
    "pycharm": {
     "name": "#%%\n"
    }
   }
  },
  {
   "cell_type": "code",
   "execution_count": 24,
   "outputs": [
    {
     "data": {
      "text/plain": "173"
     },
     "execution_count": 24,
     "metadata": {},
     "output_type": "execute_result"
    }
   ],
   "source": [
    "TN = cnf_matrix[0][0]\n",
    "FP = cnf_matrix[0][1]\n",
    "FN = cnf_matrix[1][0]\n",
    "TP = cnf_matrix[1][1]\n",
    "\n",
    "\n",
    "retain_sum = (FP + TP) * 1\n",
    "income = TP * 2\n",
    "\n",
    "income - retain_sum"
   ],
   "metadata": {
    "collapsed": false,
    "pycharm": {
     "name": "#%%\n"
    }
   }
  }
 ],
 "metadata": {
  "kernelspec": {
   "display_name": "Python 3",
   "language": "python",
   "name": "python3"
  },
  "language_info": {
   "codemirror_mode": {
    "name": "ipython",
    "version": 2
   },
   "file_extension": ".py",
   "mimetype": "text/x-python",
   "name": "python",
   "nbconvert_exporter": "python",
   "pygments_lexer": "ipython2",
   "version": "2.7.6"
  }
 },
 "nbformat": 4,
 "nbformat_minor": 0
}